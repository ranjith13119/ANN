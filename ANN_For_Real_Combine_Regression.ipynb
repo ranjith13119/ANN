{
  "nbformat": 4,
  "nbformat_minor": 0,
  "metadata": {
    "colab": {
      "name": "ANN-For Regression.ipynb",
      "provenance": [],
      "collapsed_sections": [],
      "mount_file_id": "1XreUL7bZ8Uc5ptUbgI5LPnYeYO_b4Yav",
      "authorship_tag": "ABX9TyMsfFBeyKBmxx95z69e8i5v",
      "include_colab_link": true
    },
    "kernelspec": {
      "name": "python3",
      "display_name": "Python 3"
    },
    "accelerator": "TPU"
  },
  "cells": [
    {
      "cell_type": "markdown",
      "metadata": {
        "id": "view-in-github",
        "colab_type": "text"
      },
      "source": [
        "<a href=\"https://colab.research.google.com/github/ranjith13119/ANN/blob/main/ANN_For_Real_Combine_Regression.ipynb\" target=\"_parent\"><img src=\"https://colab.research.google.com/assets/colab-badge.svg\" alt=\"Open In Colab\"/></a>"
      ]
    },
    {
      "cell_type": "code",
      "metadata": {
        "id": "1RXTargqDUy4"
      },
      "source": [
        "import pandas as pd \n",
        "import numpy as np\n",
        "from tensorflow.keras import layers"
      ],
      "execution_count": null,
      "outputs": []
    },
    {
      "cell_type": "code",
      "metadata": {
        "id": "dHmHLLkADpSI"
      },
      "source": [
        "dataset = pd.read_csv(\"/content/drive/MyDrive/ANN/Real_Combine.csv\")"
      ],
      "execution_count": null,
      "outputs": []
    },
    {
      "cell_type": "code",
      "metadata": {
        "id": "ChlbMBe4DxtL"
      },
      "source": [
        "dataset.head()"
      ],
      "execution_count": null,
      "outputs": []
    },
    {
      "cell_type": "code",
      "metadata": {
        "id": "H3qWJwjFD1z2"
      },
      "source": [
        "X = dataset.iloc[:, :-1].values\n",
        "y = dataset.iloc[:, -1].values"
      ],
      "execution_count": null,
      "outputs": []
    },
    {
      "cell_type": "code",
      "metadata": {
        "id": "Js7D--Yo8KUv"
      },
      "source": [
        "from sklearn.model_selection import train_test_split\n",
        "X_train, X_test, y_train, y_test = train_test_split(X, y, test_size = 0.2, random_state = 0)"
      ],
      "execution_count": null,
      "outputs": []
    },
    {
      "cell_type": "code",
      "metadata": {
        "id": "1SWru9tWEbXs"
      },
      "source": [
        "from sklearn.preprocessing import StandardScaler\n",
        "sc = StandardScaler()\n",
        "X_train = sc.fit_transform(X_train)\n",
        "X_test = sc.transform(X_test)"
      ],
      "execution_count": null,
      "outputs": []
    },
    {
      "cell_type": "code",
      "metadata": {
        "colab": {
          "base_uri": "https://localhost:8080/"
        },
        "id": "bixiDsb5EcZT",
        "outputId": "8657b3ce-354b-4a3c-be54-14f84f06e602"
      },
      "source": [
        "print(X_train.shape)"
      ],
      "execution_count": null,
      "outputs": [
        {
          "output_type": "stream",
          "text": [
            "(874, 8)\n"
          ],
          "name": "stdout"
        }
      ]
    },
    {
      "cell_type": "code",
      "metadata": {
        "id": "tfhDnKDaEhjw"
      },
      "source": [
        "import keras \n",
        "from keras.models import Sequential\n",
        "from keras.layers import Dense\n",
        "from keras.layers import ReLU, LeakyReLU, PReLU, ELU\n",
        "from keras.layers import Dropout"
      ],
      "execution_count": null,
      "outputs": []
    },
    {
      "cell_type": "code",
      "metadata": {
        "id": "q9Zfn8WQEjbH"
      },
      "source": [
        "annClassifier = Sequential()"
      ],
      "execution_count": null,
      "outputs": []
    },
    {
      "cell_type": "code",
      "metadata": {
        "id": "VZZgc7EHEmKr"
      },
      "source": [
        "annClassifier.add(Dense(units = 6, activation= \"relu\", kernel_initializer='he_uniform', input_dim = 8))"
      ],
      "execution_count": null,
      "outputs": []
    },
    {
      "cell_type": "code",
      "metadata": {
        "id": "IejDs22tEqCY"
      },
      "source": [
        "annClassifier.add(Dense(units = 6, activation= \"relu\", kernel_initializer='he_uniform'))"
      ],
      "execution_count": null,
      "outputs": []
    },
    {
      "cell_type": "code",
      "metadata": {
        "id": "RiB4XkiZEvjE"
      },
      "source": [
        "annClassifier.add(Dense(units = 1, activation= \"linear\"))"
      ],
      "execution_count": null,
      "outputs": []
    },
    {
      "cell_type": "code",
      "metadata": {
        "id": "HlOWjhGUEzyE"
      },
      "source": [
        "annClassifier.compile(optimizer='adam', loss='mean_absolute_error', metrics=['mean_absolute_error'])"
      ],
      "execution_count": null,
      "outputs": []
    },
    {
      "cell_type": "code",
      "metadata": {
        "id": "vFTuZJDjE-hf"
      },
      "source": [
        " model_history=annClassifier.fit(X_train, y_train,validation_split=0.33, batch_size = 10, epochs = 100)"
      ],
      "execution_count": null,
      "outputs": []
    },
    {
      "cell_type": "code",
      "metadata": {
        "id": "dEOCRvXHFRRM"
      },
      "source": [
        "y_pred = annClassifier.predict(X_test)"
      ],
      "execution_count": null,
      "outputs": []
    },
    {
      "cell_type": "code",
      "metadata": {
        "id": "psEJeT1l8p6H"
      },
      "source": [
        "y_pred "
      ],
      "execution_count": null,
      "outputs": []
    },
    {
      "cell_type": "code",
      "metadata": {
        "id": "BLqyfCD-GBJO"
      },
      "source": [
        "def build_model(hp):\n",
        "    model = keras.Sequential()\n",
        "    for i in range(hp.Int('num_layers', 2, 20)):\n",
        "        model.add(layers.Dense(units=hp.Int('units_' + str(i),\n",
        "                                            min_value=32,\n",
        "                                            max_value=512,\n",
        "                                            step=32),\n",
        "                               activation='relu'))\n",
        "    model.add(layers.Dense(1, activation='linear'))\n",
        "    model.compile(\n",
        "        optimizer=keras.optimizers.Adam(\n",
        "            hp.Choice('learning_rate', [1e-2, 1e-3, 1e-4])),\n",
        "        loss='mean_absolute_error',\n",
        "        metrics=['mean_absolute_error'])\n",
        "    return model"
      ],
      "execution_count": null,
      "outputs": []
    },
    {
      "cell_type": "code",
      "metadata": {
        "colab": {
          "base_uri": "https://localhost:8080/"
        },
        "id": "66oa0Zn39Z7K",
        "outputId": "dc6c49ed-dede-4a5c-d280-1edb2782c2fc"
      },
      "source": [
        "!pip install -q -U keras-tuner"
      ],
      "execution_count": null,
      "outputs": [
        {
          "output_type": "stream",
          "text": [
            "\u001b[?25l\r\u001b[K     |█████▏                          | 10kB 13.5MB/s eta 0:00:01\r\u001b[K     |██████████▍                     | 20kB 18.2MB/s eta 0:00:01\r\u001b[K     |███████████████▋                | 30kB 13.0MB/s eta 0:00:01\r\u001b[K     |████████████████████▉           | 40kB 9.6MB/s eta 0:00:01\r\u001b[K     |██████████████████████████      | 51kB 5.9MB/s eta 0:00:01\r\u001b[K     |███████████████████████████████▎| 61kB 6.5MB/s eta 0:00:01\r\u001b[K     |████████████████████████████████| 71kB 4.1MB/s \n",
            "\u001b[?25h  Building wheel for keras-tuner (setup.py) ... \u001b[?25l\u001b[?25hdone\n",
            "  Building wheel for terminaltables (setup.py) ... \u001b[?25l\u001b[?25hdone\n"
          ],
          "name": "stdout"
        }
      ]
    },
    {
      "cell_type": "code",
      "metadata": {
        "id": "pk-lQVf9GGj1"
      },
      "source": [
        "from kerastuner.tuners import RandomSearch\n",
        "tuner = RandomSearch(\n",
        "    build_model,\n",
        "    objective='val_mean_absolute_error',\n",
        "    max_trials=5,\n",
        "    executions_per_trial=3,\n",
        "    directory='project',\n",
        "    project_name='Air Quality Index')"
      ],
      "execution_count": null,
      "outputs": []
    },
    {
      "cell_type": "code",
      "metadata": {
        "colab": {
          "base_uri": "https://localhost:8080/"
        },
        "id": "HzCtJ8_CGQC3",
        "outputId": "428cff0b-ae65-4ebf-d2ee-b61713a223e9"
      },
      "source": [
        "tuner.search_space_summary()"
      ],
      "execution_count": null,
      "outputs": [
        {
          "output_type": "stream",
          "text": [
            "Search space summary\n",
            "Default search space size: 4\n",
            "num_layers (Int)\n",
            "{'default': None, 'conditions': [], 'min_value': 2, 'max_value': 20, 'step': 1, 'sampling': None}\n",
            "units_0 (Int)\n",
            "{'default': None, 'conditions': [], 'min_value': 32, 'max_value': 512, 'step': 32, 'sampling': None}\n",
            "units_1 (Int)\n",
            "{'default': None, 'conditions': [], 'min_value': 32, 'max_value': 512, 'step': 32, 'sampling': None}\n",
            "learning_rate (Choice)\n",
            "{'default': 0.01, 'conditions': [], 'values': [0.01, 0.001, 0.0001], 'ordered': True}\n"
          ],
          "name": "stdout"
        }
      ]
    },
    {
      "cell_type": "code",
      "metadata": {
        "colab": {
          "base_uri": "https://localhost:8080/"
        },
        "id": "PVtT64mLGfga",
        "outputId": "406920ca-fafa-4021-c7bd-4a95f8845a87"
      },
      "source": [
        "tuner.search(X_train, y_train,\n",
        "             epochs=5,\n",
        "             validation_data=(X_test, y_test))"
      ],
      "execution_count": null,
      "outputs": [
        {
          "output_type": "stream",
          "text": [
            "Trial 5 Complete [00h 00m 09s]\n",
            "val_mean_absolute_error: nan\n",
            "\n",
            "Best val_mean_absolute_error So Far: nan\n",
            "Total elapsed time: 00h 00m 41s\n",
            "INFO:tensorflow:Oracle triggered exit\n"
          ],
          "name": "stdout"
        }
      ]
    },
    {
      "cell_type": "code",
      "metadata": {
        "colab": {
          "base_uri": "https://localhost:8080/"
        },
        "id": "It48nKKLGqon",
        "outputId": "0e6604c4-698f-44c3-9871-7a33a903b5df"
      },
      "source": [
        "tuner.results_summary()"
      ],
      "execution_count": null,
      "outputs": [
        {
          "output_type": "stream",
          "text": [
            "Results summary\n",
            "Results in project/Air Quality Index\n",
            "Showing 10 best trials\n",
            "Objective(name='val_mean_absolute_error', direction='min')\n",
            "Trial summary\n",
            "Hyperparameters:\n",
            "num_layers: 14\n",
            "units_0: 512\n",
            "units_1: 128\n",
            "learning_rate: 0.001\n",
            "units_2: 32\n",
            "units_3: 32\n",
            "units_4: 32\n",
            "units_5: 32\n",
            "units_6: 32\n",
            "units_7: 32\n",
            "units_8: 32\n",
            "units_9: 32\n",
            "units_10: 32\n",
            "units_11: 32\n",
            "units_12: 32\n",
            "units_13: 32\n",
            "Score: nan\n",
            "Trial summary\n",
            "Hyperparameters:\n",
            "num_layers: 11\n",
            "units_0: 416\n",
            "units_1: 384\n",
            "learning_rate: 0.001\n",
            "units_2: 96\n",
            "units_3: 320\n",
            "units_4: 96\n",
            "units_5: 224\n",
            "units_6: 352\n",
            "units_7: 352\n",
            "units_8: 160\n",
            "units_9: 96\n",
            "units_10: 192\n",
            "units_11: 224\n",
            "units_12: 192\n",
            "units_13: 416\n",
            "Score: nan\n",
            "Trial summary\n",
            "Hyperparameters:\n",
            "num_layers: 2\n",
            "units_0: 288\n",
            "units_1: 192\n",
            "learning_rate: 0.001\n",
            "units_2: 192\n",
            "units_3: 512\n",
            "units_4: 64\n",
            "units_5: 384\n",
            "units_6: 256\n",
            "units_7: 224\n",
            "units_8: 96\n",
            "units_9: 448\n",
            "units_10: 128\n",
            "units_11: 320\n",
            "units_12: 320\n",
            "units_13: 224\n",
            "Score: nan\n",
            "Trial summary\n",
            "Hyperparameters:\n",
            "num_layers: 19\n",
            "units_0: 320\n",
            "units_1: 96\n",
            "learning_rate: 0.0001\n",
            "units_2: 96\n",
            "units_3: 448\n",
            "units_4: 288\n",
            "units_5: 352\n",
            "units_6: 128\n",
            "units_7: 512\n",
            "units_8: 128\n",
            "units_9: 416\n",
            "units_10: 192\n",
            "units_11: 416\n",
            "units_12: 224\n",
            "units_13: 192\n",
            "units_14: 32\n",
            "units_15: 32\n",
            "units_16: 32\n",
            "units_17: 32\n",
            "units_18: 32\n",
            "Score: nan\n",
            "Trial summary\n",
            "Hyperparameters:\n",
            "num_layers: 13\n",
            "units_0: 448\n",
            "units_1: 64\n",
            "learning_rate: 0.001\n",
            "units_2: 128\n",
            "units_3: 256\n",
            "units_4: 320\n",
            "units_5: 224\n",
            "units_6: 256\n",
            "units_7: 448\n",
            "units_8: 448\n",
            "units_9: 32\n",
            "units_10: 192\n",
            "units_11: 128\n",
            "units_12: 96\n",
            "units_13: 64\n",
            "units_14: 288\n",
            "units_15: 480\n",
            "units_16: 512\n",
            "units_17: 448\n",
            "units_18: 448\n",
            "Score: nan\n"
          ],
          "name": "stdout"
        }
      ]
    }
  ]
}